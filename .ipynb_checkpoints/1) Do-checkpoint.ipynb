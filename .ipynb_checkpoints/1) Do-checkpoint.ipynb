{
 "cells": [
  {
   "cell_type": "code",
   "execution_count": 34,
   "id": "fitting-chassis",
   "metadata": {},
   "outputs": [],
   "source": [
    "import pandas as pd\n",
    "import requests\n",
    "import json\n",
    "from PyDictionary import PyDictionary\n",
    "dictionary=PyDictionary()"
   ]
  },
  {
   "cell_type": "code",
   "execution_count": 5,
   "id": "documented-april",
   "metadata": {},
   "outputs": [],
   "source": [
    "words = pd.read_csv('words.csv')"
   ]
  },
  {
   "cell_type": "code",
   "execution_count": 9,
   "id": "humanitarian-heading",
   "metadata": {},
   "outputs": [],
   "source": [
    "cols = [col for col in words.columns if \"Group \" in col]"
   ]
  },
  {
   "cell_type": "code",
   "execution_count": 11,
   "id": "agreed-prototype",
   "metadata": {},
   "outputs": [],
   "source": [
    "words = words[cols]"
   ]
  },
  {
   "cell_type": "code",
   "execution_count": 14,
   "id": "portuguese-insider",
   "metadata": {},
   "outputs": [],
   "source": [
    "words = words[1:]"
   ]
  },
  {
   "cell_type": "code",
   "execution_count": 22,
   "id": "contemporary-landing",
   "metadata": {},
   "outputs": [],
   "source": [
    "import functools\n",
    "import operator\n",
    "all_words = functools.reduce(operator.iconcat, words.values, [])"
   ]
  },
  {
   "cell_type": "code",
   "execution_count": 31,
   "id": "altered-encyclopedia",
   "metadata": {},
   "outputs": [],
   "source": [
    "word_list = [x for x in all_words if \" \" not in str(x) and not pd.isnull(x)]"
   ]
  },
  {
   "cell_type": "code",
   "execution_count": null,
   "id": "understanding-cheat",
   "metadata": {},
   "outputs": [
    {
     "name": "stdout",
     "output_type": "stream",
     "text": [
      "1 of 840\n",
      "{'Verb': ['be abundant or plentiful; exist in large quantities', 'be in a state of movement or action']}\n",
      "2 of 840\n",
      "{'Verb': ['corrupt, debase, or make impure by adding a foreign or inferior substance; often by replacing valuable ingredients with inferior ones'], 'Adjective': ['mixed with impurities']}\n",
      "3 of 840\n",
      "{'Verb': ['make less active or intense', 'become less in amount or intensity']}\n",
      "4 of 840\n",
      "{'Verb': ['refrain from voting', 'choose not to consume']}\n",
      "5 of 840\n",
      "{'Adjective': ['remote in manner'], 'Adverb': ['in an aloof manner']}\n",
      "6 of 840\n",
      "{'Verb': [\"advise or counsel in terms of someone's behavior\", 'warn strongly; put on guard', 'take to task']}\n",
      "7 of 840\n",
      "{'Verb': ['cause to be more favorably inclined; gain the good will of', 'overcome or allay', 'make peace with']}\n",
      "8 of 840\n",
      "{'Verb': ['to stress, single out as important', 'put stress on; utter with an accent']}\n",
      "9 of 840\n",
      "{'Adjective': ['ill-mannered and coarse and contemptible in behavior or appearance']}\n",
      "10 of 840\n",
      "{'Noun': ['a tapering point', 'shrewdness shown by keen insight']}\n",
      "11 of 840\n"
     ]
    }
   ],
   "source": [
    "word_meaning = {}\n",
    "i = 1\n",
    "\n",
    "for word in word_list:\n",
    "    print(\"{} of {}\".format(i, len(word_list)))\n",
    "    word_meaning[word] = dictionary.meaning(word)\n",
    "    print(word_meaning[word])\n",
    "    i = i + 1"
   ]
  },
  {
   "cell_type": "code",
   "execution_count": null,
   "id": "mexican-pathology",
   "metadata": {},
   "outputs": [],
   "source": []
  }
 ],
 "metadata": {
  "kernelspec": {
   "display_name": "Python 3.8.2 64-bit",
   "language": "python",
   "name": "python38264bit5e026c37115b47dab948fc9d59355aca"
  },
  "language_info": {
   "codemirror_mode": {
    "name": "ipython",
    "version": 3
   },
   "file_extension": ".py",
   "mimetype": "text/x-python",
   "name": "python",
   "nbconvert_exporter": "python",
   "pygments_lexer": "ipython3",
   "version": "3.8.5"
  }
 },
 "nbformat": 4,
 "nbformat_minor": 5
}
